{
 "cells": [
  {
   "cell_type": "code",
   "execution_count": 1,
   "id": "57c69b03",
   "metadata": {},
   "outputs": [],
   "source": [
    "import pandas as pd\n",
    "import numpy as np \n",
    "import matplotlib.pyplot as plt\n",
    "import seaborn as sns\n",
    "from sklearn.model_selection import train_test_split\n",
    "import warnings\n",
    "warnings.filterwarnings('ignore')"
   ]
  },
  {
   "cell_type": "code",
   "execution_count": 2,
   "id": "7f5fc0d5",
   "metadata": {},
   "outputs": [],
   "source": [
    "cric_data=pd.read_csv(r\"C:\\Users\\adith\\Downloads\\batting_stats_for_icc_mens_t20_world_cup_2024.csv\")"
   ]
  },
  {
   "cell_type": "code",
   "execution_count": 3,
   "id": "aa616653",
   "metadata": {},
   "outputs": [
    {
     "data": {
      "text/html": [
       "<div>\n",
       "<style scoped>\n",
       "    .dataframe tbody tr th:only-of-type {\n",
       "        vertical-align: middle;\n",
       "    }\n",
       "\n",
       "    .dataframe tbody tr th {\n",
       "        vertical-align: top;\n",
       "    }\n",
       "\n",
       "    .dataframe thead th {\n",
       "        text-align: right;\n",
       "    }\n",
       "</style>\n",
       "<table border=\"1\" class=\"dataframe\">\n",
       "  <thead>\n",
       "    <tr style=\"text-align: right;\">\n",
       "      <th></th>\n",
       "      <th>Player</th>\n",
       "      <th>Team</th>\n",
       "      <th>Mat</th>\n",
       "      <th>Inns</th>\n",
       "      <th>NO</th>\n",
       "      <th>Runs</th>\n",
       "      <th>HS</th>\n",
       "      <th>Ave</th>\n",
       "      <th>SR</th>\n",
       "      <th>100</th>\n",
       "      <th>50</th>\n",
       "      <th>0</th>\n",
       "    </tr>\n",
       "  </thead>\n",
       "  <tbody>\n",
       "    <tr>\n",
       "      <th>0</th>\n",
       "      <td>NP Kenjige</td>\n",
       "      <td>United States of America</td>\n",
       "      <td>4</td>\n",
       "      <td>2</td>\n",
       "      <td>0</td>\n",
       "      <td>1</td>\n",
       "      <td>1</td>\n",
       "      <td>0.5</td>\n",
       "      <td>25.00</td>\n",
       "      <td>0</td>\n",
       "      <td>0</td>\n",
       "      <td>1</td>\n",
       "    </tr>\n",
       "    <tr>\n",
       "      <th>1</th>\n",
       "      <td>Aaron Jones</td>\n",
       "      <td>United States of America</td>\n",
       "      <td>6</td>\n",
       "      <td>6</td>\n",
       "      <td>2</td>\n",
       "      <td>162</td>\n",
       "      <td>94*</td>\n",
       "      <td>40.5</td>\n",
       "      <td>135.00</td>\n",
       "      <td>0</td>\n",
       "      <td>1</td>\n",
       "      <td>1</td>\n",
       "    </tr>\n",
       "    <tr>\n",
       "      <th>2</th>\n",
       "      <td>Aasif Sheikh</td>\n",
       "      <td>Nepal</td>\n",
       "      <td>3</td>\n",
       "      <td>3</td>\n",
       "      <td>0</td>\n",
       "      <td>63</td>\n",
       "      <td>42</td>\n",
       "      <td>21.0</td>\n",
       "      <td>88.73</td>\n",
       "      <td>0</td>\n",
       "      <td>0</td>\n",
       "      <td>0</td>\n",
       "    </tr>\n",
       "    <tr>\n",
       "      <th>3</th>\n",
       "      <td>Abbas Afridi</td>\n",
       "      <td>Pakistan</td>\n",
       "      <td>1</td>\n",
       "      <td>1</td>\n",
       "      <td>0</td>\n",
       "      <td>17</td>\n",
       "      <td>17</td>\n",
       "      <td>17.0</td>\n",
       "      <td>80.95</td>\n",
       "      <td>0</td>\n",
       "      <td>0</td>\n",
       "      <td>0</td>\n",
       "    </tr>\n",
       "    <tr>\n",
       "      <th>4</th>\n",
       "      <td>F Achelam</td>\n",
       "      <td>Uganda</td>\n",
       "      <td>1</td>\n",
       "      <td>1</td>\n",
       "      <td>0</td>\n",
       "      <td>9</td>\n",
       "      <td>9</td>\n",
       "      <td>9.0</td>\n",
       "      <td>69.23</td>\n",
       "      <td>0</td>\n",
       "      <td>0</td>\n",
       "      <td>0</td>\n",
       "    </tr>\n",
       "  </tbody>\n",
       "</table>\n",
       "</div>"
      ],
      "text/plain": [
       "         Player                      Team  Mat  Inns  NO  Runs   HS   Ave  \\\n",
       "0    NP Kenjige  United States of America    4     2   0     1    1   0.5   \n",
       "1   Aaron Jones  United States of America    6     6   2   162  94*  40.5   \n",
       "2  Aasif Sheikh                     Nepal    3     3   0    63   42  21.0   \n",
       "3  Abbas Afridi                  Pakistan    1     1   0    17   17  17.0   \n",
       "4     F Achelam                    Uganda    1     1   0     9    9   9.0   \n",
       "\n",
       "       SR  100  50  0  \n",
       "0   25.00    0   0  1  \n",
       "1  135.00    0   1  1  \n",
       "2   88.73    0   0  0  \n",
       "3   80.95    0   0  0  \n",
       "4   69.23    0   0  0  "
      ]
     },
     "execution_count": 3,
     "metadata": {},
     "output_type": "execute_result"
    }
   ],
   "source": [
    "cric_data.head()"
   ]
  },
  {
   "cell_type": "code",
   "execution_count": 4,
   "id": "8ccc3022",
   "metadata": {},
   "outputs": [
    {
     "name": "stdout",
     "output_type": "stream",
     "text": [
      "<class 'pandas.core.frame.DataFrame'>\n",
      "RangeIndex: 247 entries, 0 to 246\n",
      "Data columns (total 12 columns):\n",
      " #   Column  Non-Null Count  Dtype  \n",
      "---  ------  --------------  -----  \n",
      " 0   Player  247 non-null    object \n",
      " 1   Team    247 non-null    object \n",
      " 2   Mat     247 non-null    int64  \n",
      " 3   Inns    247 non-null    int64  \n",
      " 4   NO      247 non-null    int64  \n",
      " 5   Runs    247 non-null    int64  \n",
      " 6   HS      247 non-null    object \n",
      " 7   Ave     247 non-null    float64\n",
      " 8   SR      247 non-null    float64\n",
      " 9   100     247 non-null    int64  \n",
      " 10  50      247 non-null    int64  \n",
      " 11  0       247 non-null    int64  \n",
      "dtypes: float64(2), int64(7), object(3)\n",
      "memory usage: 23.3+ KB\n"
     ]
    }
   ],
   "source": [
    "cric_data.info()"
   ]
  },
  {
   "cell_type": "code",
   "execution_count": 5,
   "id": "fcfe832a",
   "metadata": {},
   "outputs": [
    {
     "data": {
      "text/plain": [
       "(247, 12)"
      ]
     },
     "execution_count": 5,
     "metadata": {},
     "output_type": "execute_result"
    }
   ],
   "source": [
    "cric_data.shape"
   ]
  },
  {
   "cell_type": "code",
   "execution_count": 6,
   "id": "41a110c1",
   "metadata": {},
   "outputs": [
    {
     "data": {
      "text/plain": [
       "Player    0\n",
       "Team      0\n",
       "Mat       0\n",
       "Inns      0\n",
       "NO        0\n",
       "Runs      0\n",
       "HS        0\n",
       "Ave       0\n",
       "SR        0\n",
       "100       0\n",
       "50        0\n",
       "0         0\n",
       "dtype: int64"
      ]
     },
     "execution_count": 6,
     "metadata": {},
     "output_type": "execute_result"
    }
   ],
   "source": [
    "cric_data.isnull().sum()"
   ]
  },
  {
   "cell_type": "code",
   "execution_count": 7,
   "id": "deb22107",
   "metadata": {},
   "outputs": [
    {
     "data": {
      "text/plain": [
       "0      15\n",
       "2       9\n",
       "10      8\n",
       "17      6\n",
       "9       6\n",
       "       ..\n",
       "70      1\n",
       "45*     1\n",
       "51      1\n",
       "30      1\n",
       "22      1\n",
       "Name: HS, Length: 101, dtype: int64"
      ]
     },
     "execution_count": 7,
     "metadata": {},
     "output_type": "execute_result"
    }
   ],
   "source": [
    "cric_data['HS'].value_counts()"
   ]
  },
  {
   "cell_type": "markdown",
   "id": "a8e29200",
   "metadata": {},
   "source": [
    "*droping irrelevant feature like 100 50 and 0 as it does not make any impact in the data set\n",
    "\n",
    "*droping the categorical column player and team\n",
    "\n",
    "*as HS is in object we want to convert to numeric"
   ]
  },
  {
   "cell_type": "code",
   "execution_count": 8,
   "id": "3f5aa29f",
   "metadata": {},
   "outputs": [],
   "source": [
    "#conerting HS to numeric \n",
    "cric_data['HS']=cric_data['HS'].str.replace('*','').astype('int')"
   ]
  },
  {
   "cell_type": "code",
   "execution_count": 9,
   "id": "657deb4c",
   "metadata": {},
   "outputs": [
    {
     "name": "stdout",
     "output_type": "stream",
     "text": [
      "<class 'pandas.core.frame.DataFrame'>\n",
      "RangeIndex: 247 entries, 0 to 246\n",
      "Data columns (total 12 columns):\n",
      " #   Column  Non-Null Count  Dtype  \n",
      "---  ------  --------------  -----  \n",
      " 0   Player  247 non-null    object \n",
      " 1   Team    247 non-null    object \n",
      " 2   Mat     247 non-null    int64  \n",
      " 3   Inns    247 non-null    int64  \n",
      " 4   NO      247 non-null    int64  \n",
      " 5   Runs    247 non-null    int64  \n",
      " 6   HS      247 non-null    int32  \n",
      " 7   Ave     247 non-null    float64\n",
      " 8   SR      247 non-null    float64\n",
      " 9   100     247 non-null    int64  \n",
      " 10  50      247 non-null    int64  \n",
      " 11  0       247 non-null    int64  \n",
      "dtypes: float64(2), int32(1), int64(7), object(2)\n",
      "memory usage: 22.3+ KB\n"
     ]
    }
   ],
   "source": [
    "cric_data.info()"
   ]
  },
  {
   "cell_type": "code",
   "execution_count": 10,
   "id": "75738fbd",
   "metadata": {},
   "outputs": [],
   "source": [
    "#droping irrlevant features \n",
    "cric_data.drop(columns=['Player','Team','100','50','0'],axis=1,inplace=True)"
   ]
  },
  {
   "cell_type": "code",
   "execution_count": 11,
   "id": "4dd6da1f",
   "metadata": {},
   "outputs": [
    {
     "data": {
      "text/html": [
       "<div>\n",
       "<style scoped>\n",
       "    .dataframe tbody tr th:only-of-type {\n",
       "        vertical-align: middle;\n",
       "    }\n",
       "\n",
       "    .dataframe tbody tr th {\n",
       "        vertical-align: top;\n",
       "    }\n",
       "\n",
       "    .dataframe thead th {\n",
       "        text-align: right;\n",
       "    }\n",
       "</style>\n",
       "<table border=\"1\" class=\"dataframe\">\n",
       "  <thead>\n",
       "    <tr style=\"text-align: right;\">\n",
       "      <th></th>\n",
       "      <th>Mat</th>\n",
       "      <th>Inns</th>\n",
       "      <th>NO</th>\n",
       "      <th>Runs</th>\n",
       "      <th>HS</th>\n",
       "      <th>Ave</th>\n",
       "      <th>SR</th>\n",
       "    </tr>\n",
       "  </thead>\n",
       "  <tbody>\n",
       "    <tr>\n",
       "      <th>0</th>\n",
       "      <td>4</td>\n",
       "      <td>2</td>\n",
       "      <td>0</td>\n",
       "      <td>1</td>\n",
       "      <td>1</td>\n",
       "      <td>0.5</td>\n",
       "      <td>25.00</td>\n",
       "    </tr>\n",
       "    <tr>\n",
       "      <th>1</th>\n",
       "      <td>6</td>\n",
       "      <td>6</td>\n",
       "      <td>2</td>\n",
       "      <td>162</td>\n",
       "      <td>94</td>\n",
       "      <td>40.5</td>\n",
       "      <td>135.00</td>\n",
       "    </tr>\n",
       "    <tr>\n",
       "      <th>2</th>\n",
       "      <td>3</td>\n",
       "      <td>3</td>\n",
       "      <td>0</td>\n",
       "      <td>63</td>\n",
       "      <td>42</td>\n",
       "      <td>21.0</td>\n",
       "      <td>88.73</td>\n",
       "    </tr>\n",
       "    <tr>\n",
       "      <th>3</th>\n",
       "      <td>1</td>\n",
       "      <td>1</td>\n",
       "      <td>0</td>\n",
       "      <td>17</td>\n",
       "      <td>17</td>\n",
       "      <td>17.0</td>\n",
       "      <td>80.95</td>\n",
       "    </tr>\n",
       "    <tr>\n",
       "      <th>4</th>\n",
       "      <td>1</td>\n",
       "      <td>1</td>\n",
       "      <td>0</td>\n",
       "      <td>9</td>\n",
       "      <td>9</td>\n",
       "      <td>9.0</td>\n",
       "      <td>69.23</td>\n",
       "    </tr>\n",
       "  </tbody>\n",
       "</table>\n",
       "</div>"
      ],
      "text/plain": [
       "   Mat  Inns  NO  Runs  HS   Ave      SR\n",
       "0    4     2   0     1   1   0.5   25.00\n",
       "1    6     6   2   162  94  40.5  135.00\n",
       "2    3     3   0    63  42  21.0   88.73\n",
       "3    1     1   0    17  17  17.0   80.95\n",
       "4    1     1   0     9   9   9.0   69.23"
      ]
     },
     "execution_count": 11,
     "metadata": {},
     "output_type": "execute_result"
    }
   ],
   "source": [
    "cric_data.head()"
   ]
  },
  {
   "cell_type": "code",
   "execution_count": 12,
   "id": "7023b17e",
   "metadata": {},
   "outputs": [
    {
     "data": {
      "image/png": "[encoded data removed]",
      "text/plain": [
       "<Figure size 432x288 with 2 Axes>"
      ]
     },
     "metadata": {
      "needs_background": "light"
     },
     "output_type": "display_data"
    }
   ],
   "source": [
    "sns.heatmap(cric_data.corr(),annot=True,cmap='coolwarm')\n",
    "plt.title('correlation matrix')\n",
    "plt.show()"
   ]
  },
  {
   "cell_type": "markdown",
   "id": "5cb24b90",
   "metadata": {},
   "source": [
    "By visualizing the above matrix,find that the Highest Score(HS) is highly correlated with Runs and Ave So need to drop 'HS' for further analysis "
   ]
  },
  {
   "cell_type": "code",
   "execution_count": 13,
   "id": "35b1c87f",
   "metadata": {},
   "outputs": [
    {
     "data": {
      "image/png": "[encoded data removed]",
      "text/plain": [
       "<Figure size 432x288 with 1 Axes>"
      ]
     },
     "metadata": {
      "needs_background": "light"
     },
     "output_type": "display_data"
    }
   ],
   "source": [
    "sns.scatterplot(x='Runs',y='Ave',data=cric_data)\n",
    "plt.title('Scatter plot for Runs vs Ave')\n",
    "plt.xlabel('runs')\n",
    "plt.ylabel('Average')\n",
    "plt.show()"
   ]
  },
  {
   "cell_type": "code",
   "execution_count": 14,
   "id": "492f1900",
   "metadata": {},
   "outputs": [],
   "source": [
    "#dropping HS \n",
    "cric_data.drop(columns=['HS'],axis=1,inplace=True)"
   ]
  },
  {
   "cell_type": "code",
   "execution_count": 15,
   "id": "a52e7026",
   "metadata": {},
   "outputs": [],
   "source": [
    "#define dependent(y) and independent (X) variables\n",
    "X=cric_data.drop(columns=['Ave'],axis=1)  #independent variable\n",
    "y=cric_data['Ave']  #average as dependent variable"
   ]
  },
  {
   "cell_type": "code",
   "execution_count": 16,
   "id": "643bfeba",
   "metadata": {},
   "outputs": [],
   "source": [
    "#splitting training data and testing data\n",
    "X_train,X_test,y_train,y_test=train_test_split(X,y,test_size=0.2,random_state=1)"
   ]
  },
  {
   "cell_type": "code",
   "execution_count": 17,
   "id": "bd9ae0ed",
   "metadata": {},
   "outputs": [
    {
     "name": "stdout",
     "output_type": "stream",
     "text": [
      "(247, 5) (197, 5) (50, 5)\n"
     ]
    }
   ],
   "source": [
    "print(X.shape,X_train.shape,X_test.shape)"
   ]
  },
  {
   "cell_type": "code",
   "execution_count": 18,
   "id": "08f13edd",
   "metadata": {},
   "outputs": [],
   "source": [
    "from sklearn.linear_model import LinearRegression"
   ]
  },
  {
   "cell_type": "markdown",
   "id": "ca1cfa7b",
   "metadata": {},
   "source": [
    "Building the linear regression model"
   ]
  },
  {
   "cell_type": "code",
   "execution_count": 19,
   "id": "18ebda92",
   "metadata": {},
   "outputs": [],
   "source": [
    "model=LinearRegression()"
   ]
  },
  {
   "cell_type": "code",
   "execution_count": 20,
   "id": "dffa552f",
   "metadata": {},
   "outputs": [
    {
     "data": {
      "text/plain": [
       "LinearRegression()"
      ]
     },
     "execution_count": 20,
     "metadata": {},
     "output_type": "execute_result"
    }
   ],
   "source": [
    "model.fit(X_train,y_train)"
   ]
  },
  {
   "cell_type": "code",
   "execution_count": 21,
   "id": "346fafb5",
   "metadata": {},
   "outputs": [],
   "source": [
    "y_pred=model.predict(X_test)"
   ]
  },
  {
   "cell_type": "code",
   "execution_count": 22,
   "id": "89e57cba",
   "metadata": {},
   "outputs": [],
   "source": [
    "from sklearn.metrics import r2_score,mean_squared_error"
   ]
  },
  {
   "cell_type": "code",
   "execution_count": 23,
   "id": "fec2d410",
   "metadata": {},
   "outputs": [
    {
     "data": {
      "text/plain": [
       "array([ 8.80040868,  4.65225919,  7.3681774 ,  7.06391548, 26.34338373,\n",
       "        9.24349525, 23.51010596, 19.84494119, 52.30850739, 11.23029817])"
      ]
     },
     "execution_count": 23,
     "metadata": {},
     "output_type": "execute_result"
    }
   ],
   "source": [
    "y_pred[:10]"
   ]
  },
  {
   "cell_type": "code",
   "execution_count": 24,
   "id": "9aae7008",
   "metadata": {},
   "outputs": [
    {
     "name": "stdout",
     "output_type": "stream",
     "text": [
      "mean squared erroe:51.82\n",
      " r2 score:0.72\n"
     ]
    }
   ],
   "source": [
    "r2=r2_score(y_test,y_pred)\n",
    "mse=mean_squared_error(y_test,y_pred)\n",
    "\n",
    "print(f\"mean squared erroe:{mse:.2f}\")\n",
    "print(f\" r2 score:{r2:.2f}\")"
   ]
  },
  {
   "cell_type": "code",
   "execution_count": 25,
   "id": "1f2fb591",
   "metadata": {},
   "outputs": [
    {
     "data": {
      "text/plain": [
       "array([11.23029817])"
      ]
     },
     "execution_count": 25,
     "metadata": {},
     "output_type": "execute_result"
    }
   ],
   "source": [
    "#testing the model with sample data\n",
    "model.predict([['1','1','0','9','69.23']])"
   ]
  },
  {
   "cell_type": "code",
   "execution_count": 26,
   "id": "e80c3d1a",
   "metadata": {},
   "outputs": [
    {
     "data": {
      "text/html": [
       "<div>\n",
       "<style scoped>\n",
       "    .dataframe tbody tr th:only-of-type {\n",
       "        vertical-align: middle;\n",
       "    }\n",
       "\n",
       "    .dataframe tbody tr th {\n",
       "        vertical-align: top;\n",
       "    }\n",
       "\n",
       "    .dataframe thead th {\n",
       "        text-align: right;\n",
       "    }\n",
       "</style>\n",
       "<table border=\"1\" class=\"dataframe\">\n",
       "  <thead>\n",
       "    <tr style=\"text-align: right;\">\n",
       "      <th></th>\n",
       "      <th>Mat</th>\n",
       "      <th>Inns</th>\n",
       "      <th>NO</th>\n",
       "      <th>Runs</th>\n",
       "      <th>Ave</th>\n",
       "      <th>SR</th>\n",
       "    </tr>\n",
       "  </thead>\n",
       "  <tbody>\n",
       "    <tr>\n",
       "      <th>0</th>\n",
       "      <td>4</td>\n",
       "      <td>2</td>\n",
       "      <td>0</td>\n",
       "      <td>1</td>\n",
       "      <td>0.5</td>\n",
       "      <td>25.00</td>\n",
       "    </tr>\n",
       "    <tr>\n",
       "      <th>1</th>\n",
       "      <td>6</td>\n",
       "      <td>6</td>\n",
       "      <td>2</td>\n",
       "      <td>162</td>\n",
       "      <td>40.5</td>\n",
       "      <td>135.00</td>\n",
       "    </tr>\n",
       "    <tr>\n",
       "      <th>2</th>\n",
       "      <td>3</td>\n",
       "      <td>3</td>\n",
       "      <td>0</td>\n",
       "      <td>63</td>\n",
       "      <td>21.0</td>\n",
       "      <td>88.73</td>\n",
       "    </tr>\n",
       "    <tr>\n",
       "      <th>3</th>\n",
       "      <td>1</td>\n",
       "      <td>1</td>\n",
       "      <td>0</td>\n",
       "      <td>17</td>\n",
       "      <td>17.0</td>\n",
       "      <td>80.95</td>\n",
       "    </tr>\n",
       "    <tr>\n",
       "      <th>4</th>\n",
       "      <td>1</td>\n",
       "      <td>1</td>\n",
       "      <td>0</td>\n",
       "      <td>9</td>\n",
       "      <td>9.0</td>\n",
       "      <td>69.23</td>\n",
       "    </tr>\n",
       "  </tbody>\n",
       "</table>\n",
       "</div>"
      ],
      "text/plain": [
       "   Mat  Inns  NO  Runs   Ave      SR\n",
       "0    4     2   0     1   0.5   25.00\n",
       "1    6     6   2   162  40.5  135.00\n",
       "2    3     3   0    63  21.0   88.73\n",
       "3    1     1   0    17  17.0   80.95\n",
       "4    1     1   0     9   9.0   69.23"
      ]
     },
     "execution_count": 26,
     "metadata": {},
     "output_type": "execute_result"
    }
   ],
   "source": [
    "cric_data.head()"
   ]
  },
  {
   "cell_type": "code",
   "execution_count": 27,
   "id": "fe3784da",
   "metadata": {},
   "outputs": [
    {
     "data": {
      "image/png": "[encoded data removed]",
      "text/plain": [
       "<Figure size 576x432 with 1 Axes>"
      ]
     },
     "metadata": {
      "needs_background": "light"
     },
     "output_type": "display_data"
    }
   ],
   "source": [
    "#  Actual vs Predicted\n",
    "# visualizing best fit line for the test data\n",
    "plt.figure(figsize=(8, 6))\n",
    "plt.scatter(y_test, y_pred, edgecolor=\"k\", alpha=0.7)\n",
    "plt.plot([y_test.min(), y_test.max()], [y_test.min(), y_test.max()], \"r--\")\n",
    "plt.xlabel(\"Actual Batting Average\")\n",
    "plt.ylabel(\"Predicted Batting Average\")\n",
    "plt.title(\"Actual vs Predicted Batting Average\")\n",
    "plt.show()"
   ]
  },
  {
   "cell_type": "markdown",
   "id": "86e20a29",
   "metadata": {},
   "source": [
    "Building stats model\n"
   ]
  },
  {
   "cell_type": "code",
   "execution_count": 28,
   "id": "dc699ee6",
   "metadata": {},
   "outputs": [],
   "source": [
    "import statsmodels.api as sm"
   ]
  },
  {
   "cell_type": "code",
   "execution_count": 29,
   "id": "49bc509b",
   "metadata": {},
   "outputs": [],
   "source": [
    "X_train_sm=sm.add_constant(X_train)\n",
    "\n",
    "lr=sm.OLS(y_train,X_train_sm).fit()"
   ]
  },
  {
   "cell_type": "code",
   "execution_count": 30,
   "id": "baab5687",
   "metadata": {},
   "outputs": [
    {
     "data": {
      "text/plain": [
       "const    7.539980\n",
       "Mat     -1.036019\n",
       "Inns    -2.693208\n",
       "NO       3.558657\n",
       "Runs     0.231379\n",
       "SR       0.077093\n",
       "dtype: float64"
      ]
     },
     "execution_count": 30,
     "metadata": {},
     "output_type": "execute_result"
    }
   ],
   "source": [
    "lr.params"
   ]
  },
  {
   "cell_type": "code",
   "execution_count": 31,
   "id": "c9d3d49d",
   "metadata": {},
   "outputs": [
    {
     "name": "stdout",
     "output_type": "stream",
     "text": [
      "                            OLS Regression Results                            \n",
      "==============================================================================\n",
      "Dep. Variable:                    Ave   R-squared:                       0.699\n",
      "Model:                            OLS   Adj. R-squared:                  0.691\n",
      "Method:                 Least Squares   F-statistic:                     88.78\n",
      "Date:                Sat, 04 Jan 2025   Prob (F-statistic):           6.39e-48\n",
      "Time:                        20:13:50   Log-Likelihood:                -684.48\n",
      "No. Observations:                 197   AIC:                             1381.\n",
      "Df Residuals:                     191   BIC:                             1401.\n",
      "Df Model:                           5                                         \n",
      "Covariance Type:            nonrobust                                         \n",
      "==============================================================================\n",
      "                 coef    std err          t      P>|t|      [0.025      0.975]\n",
      "------------------------------------------------------------------------------\n",
      "const          7.5400      1.753      4.301      0.000       4.082      10.998\n",
      "Mat           -1.0360      0.427     -2.428      0.016      -1.878      -0.194\n",
      "Inns          -2.6932      0.595     -4.529      0.000      -3.866      -1.520\n",
      "NO             3.5587      0.794      4.481      0.000       1.992       5.125\n",
      "Runs           0.2314      0.018     12.723      0.000       0.196       0.267\n",
      "SR             0.0771      0.016      4.949      0.000       0.046       0.108\n",
      "==============================================================================\n",
      "Omnibus:                      158.015   Durbin-Watson:                   1.883\n",
      "Prob(Omnibus):                  0.000   Jarque-Bera (JB):             5234.403\n",
      "Skew:                           2.578   Prob(JB):                         0.00\n",
      "Kurtosis:                      27.721   Cond. No.                         383.\n",
      "==============================================================================\n",
      "\n",
      "Notes:\n",
      "[1] Standard Errors assume that the covariance matrix of the errors is correctly specified.\n"
     ]
    }
   ],
   "source": [
    "print(lr.summary())"
   ]
  },
  {
   "cell_type": "code",
   "execution_count": 32,
   "id": "80fb299b",
   "metadata": {},
   "outputs": [
    {
     "data": {
      "image/png": "[encoded data removed]",
      "text/plain": [
       "<Figure size 432x288 with 1 Axes>"
      ]
     },
     "metadata": {
      "needs_background": "light"
     },
     "output_type": "display_data"
    }
   ],
   "source": [
    "plt.scatter(X_train['Runs'],y_train)\n",
    "plt.plot(X_train['Runs'],7.5400+0.2314*X_train['Runs'],'r')\n",
    "plt.show()"
   ]
  },
  {
   "cell_type": "code",
   "execution_count": 33,
   "id": "4d0fa4f9",
   "metadata": {},
   "outputs": [],
   "source": [
    "y_train_pred=lr.predict(X_train_sm)"
   ]
  },
  {
   "cell_type": "code",
   "execution_count": 34,
   "id": "cf46cf9b",
   "metadata": {},
   "outputs": [
    {
     "data": {
      "text/plain": [
       "170     0.00\n",
       "159     4.66\n",
       "181     2.00\n",
       "147     7.33\n",
       "150     5.25\n",
       "116    23.16\n",
       "93      2.00\n",
       "28      8.00\n",
       "16     23.66\n",
       "236     6.33\n",
       "Name: Ave, dtype: float64"
      ]
     },
     "execution_count": 34,
     "metadata": {},
     "output_type": "execute_result"
    }
   ],
   "source": [
    "y_train[:10]"
   ]
  },
  {
   "cell_type": "code",
   "execution_count": 35,
   "id": "9b1de091",
   "metadata": {},
   "outputs": [
    {
     "data": {
      "image/png": "[encoded data removed]",
      "text/plain": [
       "<Figure size 432x288 with 1 Axes>"
      ]
     },
     "metadata": {
      "needs_background": "light"
     },
     "output_type": "display_data"
    }
   ],
   "source": [
    "residuals = (y_train - y_train_pred)\n",
    "# Plot the residuals\n",
    "# Normality of errors or residuals\n",
    "fig = plt.figure()\n",
    "sns.distplot(residuals, bins = 10)\n",
    "fig.suptitle(\"Errors Terms\", fontsize = 15)\n",
    "plt.xlabel('y_train - y_train_pred', fontsize = 10)\n",
    "plt.show()\n",
    "# Below graph shows that residuals are normally distributed."
   ]
  },
  {
   "cell_type": "code",
   "execution_count": 37,
   "id": "01d238d8",
   "metadata": {},
   "outputs": [],
   "source": [
    "X_test_sm=sm.add_constant(X_test)# stats model for testing data\n",
    "y_pred=lr.predict(X_test_sm)"
   ]
  },
  {
   "cell_type": "code",
   "execution_count": 38,
   "id": "aab5f408",
   "metadata": {},
   "outputs": [
    {
     "data": {
      "text/plain": [
       "0.7204927725665935"
      ]
     },
     "execution_count": 38,
     "metadata": {},
     "output_type": "execute_result"
    }
   ],
   "source": [
    "r2_score(y_test,y_pred)"
   ]
  },
  {
   "cell_type": "markdown",
   "id": "6742a8b2",
   "metadata": {},
   "source": [
    "Inferences:\n",
    "\n",
    "1. Target Variables:\n",
    "Variables like Ave (Batting Average) and SR (Strike Rate) are continuous and real-valued, making them appropriate for regression tasks.\n",
    "\n",
    "2. Feature Selection:\n",
    "Features such as Mat (Matches), NO (Not Outs), HS (Highest Score), and Runs are numerical and provide predictive power for modeling target variables.\n",
    "Irrelevant features, including '100', '50', and '0', were dropped as they are not directly related to predicting the target variable.\n",
    "\n",
    "3. Handling Correlated Features:\n",
    "HS (Highest Score) was dropped because it is highly correlated with Runs and Ave, which could introduce multicollinearity and reduce model interpretability.\n",
    "\n",
    "4. Categorical Data:\n",
    "Categorical features, such as player names and teams, were removed as they are non-numeric and irrelevant for predicting batting performance.\n"
   ]
  },
  {
   "cell_type": "markdown",
   "id": "2d33f59c",
   "metadata": {},
   "source": [
    "Conclusion:\n",
    "\n",
    "1. Model Robustness:\n",
    "Based on the linear regression model, statistical analysis, and visualizations, we are confident in the model’s ability to explain and predict the target variable effectively.\n",
    "\n",
    "2. Prediction Power:\n",
    "The model demonstrates decent predictive power, as reflected by metrics such as R² and Mean Squared Error (MSE), which indicate good alignment between predicted and actual values.\n",
    "\n",
    "3. Residual Analysis:\n",
    "The residuals follow a normal distribution, confirming that the model assumptions are satisfied and no significant biases exist in the predictions.\n",
    "\n",
    "4. Practical Implications:\n",
    "The model provides valuable insights into factors influencing batting averages and strike rates, making it a reliable tool for analysis in the given context."
   ]
  },
  {
   "cell_type": "code",
   "execution_count": null,
   "id": "dd1c5149",
   "metadata": {},
   "outputs": [],
   "source": []
  }
 ],
 "metadata": {
  "kernelspec": {
   "display_name": "Python 3",
   "language": "python",
   "name": "python3"
  },
  "language_info": {
   "codemirror_mode": {
    "name": "ipython",
    "version": 3
   },
   "file_extension": ".py",
   "mimetype": "text/x-python",
   "name": "python",
   "nbconvert_exporter": "python",
   "pygments_lexer": "ipython3",
   "version": "3.8.8"
  }
 },
 "nbformat": 4,
 "nbformat_minor": 5
}
